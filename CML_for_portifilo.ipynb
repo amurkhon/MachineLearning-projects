{
  "nbformat": 4,
  "nbformat_minor": 0,
  "metadata": {
    "colab": {
      "name": "CML_for_portifilo.ipynb",
      "provenance": [],
      "authorship_tag": "ABX9TyMG+rwhudGnkKjU2wum+jXM",
      "include_colab_link": true
    },
    "kernelspec": {
      "name": "python3",
      "display_name": "Python 3"
    },
    "language_info": {
      "name": "python"
    }
  },
  "cells": [
    {
      "cell_type": "markdown",
      "metadata": {
        "id": "view-in-github",
        "colab_type": "text"
      },
      "source": [
        "<a href=\"https://colab.research.google.com/github/amurkhon/MachineLearning-projects/blob/main/CML_for_portifilo.ipynb\" target=\"_parent\"><img src=\"https://colab.research.google.com/assets/colab-badge.svg\" alt=\"Open In Colab\"/></a>"
      ]
    },
    {
      "cell_type": "code",
      "execution_count": null,
      "metadata": {
        "id": "CGwGU9D_MIaC"
      },
      "outputs": [],
      "source": [
        "import pandas as pd\n",
        "import numpy as np\n",
        "import sklearn\n",
        "import seaborn as sns\n",
        "import matplotlib.pyplot as plt\n",
        "%matplotlib inline\n",
        "import imblearn"
      ]
    },
    {
      "cell_type": "code",
      "source": [
        "df = pd.read_csv(\"https://github.com/anvarnarz/praktikum_datasets/blob/main/diabetes.csv?raw=true\")\n",
        "df.head()"
      ],
      "metadata": {
        "colab": {
          "base_uri": "https://localhost:8080/",
          "height": 206
        },
        "id": "AwWjIVVEMrE8",
        "outputId": "77508472-66f1-46e9-a8ff-ecfad956e3d0"
      },
      "execution_count": null,
      "outputs": [
        {
          "output_type": "execute_result",
          "data": {
            "text/plain": [
              "   Pregnancies  Glucose  BloodPressure  SkinThickness  Insulin   BMI  \\\n",
              "0            6      148             72             35        0  33.6   \n",
              "1            1       85             66             29        0  26.6   \n",
              "2            8      183             64              0        0  23.3   \n",
              "3            1       89             66             23       94  28.1   \n",
              "4            0      137             40             35      168  43.1   \n",
              "\n",
              "   DiabetesPedigreeFunction  Age  Outcome  \n",
              "0                     0.627   50        1  \n",
              "1                     0.351   31        0  \n",
              "2                     0.672   32        1  \n",
              "3                     0.167   21        0  \n",
              "4                     2.288   33        1  "
            ],
            "text/html": [
              "\n",
              "  <div id=\"df-f31f559e-5410-4649-a5eb-36ce9c081fc9\">\n",
              "    <div class=\"colab-df-container\">\n",
              "      <div>\n",
              "<style scoped>\n",
              "    .dataframe tbody tr th:only-of-type {\n",
              "        vertical-align: middle;\n",
              "    }\n",
              "\n",
              "    .dataframe tbody tr th {\n",
              "        vertical-align: top;\n",
              "    }\n",
              "\n",
              "    .dataframe thead th {\n",
              "        text-align: right;\n",
              "    }\n",
              "</style>\n",
              "<table border=\"1\" class=\"dataframe\">\n",
              "  <thead>\n",
              "    <tr style=\"text-align: right;\">\n",
              "      <th></th>\n",
              "      <th>Pregnancies</th>\n",
              "      <th>Glucose</th>\n",
              "      <th>BloodPressure</th>\n",
              "      <th>SkinThickness</th>\n",
              "      <th>Insulin</th>\n",
              "      <th>BMI</th>\n",
              "      <th>DiabetesPedigreeFunction</th>\n",
              "      <th>Age</th>\n",
              "      <th>Outcome</th>\n",
              "    </tr>\n",
              "  </thead>\n",
              "  <tbody>\n",
              "    <tr>\n",
              "      <th>0</th>\n",
              "      <td>6</td>\n",
              "      <td>148</td>\n",
              "      <td>72</td>\n",
              "      <td>35</td>\n",
              "      <td>0</td>\n",
              "      <td>33.6</td>\n",
              "      <td>0.627</td>\n",
              "      <td>50</td>\n",
              "      <td>1</td>\n",
              "    </tr>\n",
              "    <tr>\n",
              "      <th>1</th>\n",
              "      <td>1</td>\n",
              "      <td>85</td>\n",
              "      <td>66</td>\n",
              "      <td>29</td>\n",
              "      <td>0</td>\n",
              "      <td>26.6</td>\n",
              "      <td>0.351</td>\n",
              "      <td>31</td>\n",
              "      <td>0</td>\n",
              "    </tr>\n",
              "    <tr>\n",
              "      <th>2</th>\n",
              "      <td>8</td>\n",
              "      <td>183</td>\n",
              "      <td>64</td>\n",
              "      <td>0</td>\n",
              "      <td>0</td>\n",
              "      <td>23.3</td>\n",
              "      <td>0.672</td>\n",
              "      <td>32</td>\n",
              "      <td>1</td>\n",
              "    </tr>\n",
              "    <tr>\n",
              "      <th>3</th>\n",
              "      <td>1</td>\n",
              "      <td>89</td>\n",
              "      <td>66</td>\n",
              "      <td>23</td>\n",
              "      <td>94</td>\n",
              "      <td>28.1</td>\n",
              "      <td>0.167</td>\n",
              "      <td>21</td>\n",
              "      <td>0</td>\n",
              "    </tr>\n",
              "    <tr>\n",
              "      <th>4</th>\n",
              "      <td>0</td>\n",
              "      <td>137</td>\n",
              "      <td>40</td>\n",
              "      <td>35</td>\n",
              "      <td>168</td>\n",
              "      <td>43.1</td>\n",
              "      <td>2.288</td>\n",
              "      <td>33</td>\n",
              "      <td>1</td>\n",
              "    </tr>\n",
              "  </tbody>\n",
              "</table>\n",
              "</div>\n",
              "      <button class=\"colab-df-convert\" onclick=\"convertToInteractive('df-f31f559e-5410-4649-a5eb-36ce9c081fc9')\"\n",
              "              title=\"Convert this dataframe to an interactive table.\"\n",
              "              style=\"display:none;\">\n",
              "        \n",
              "  <svg xmlns=\"http://www.w3.org/2000/svg\" height=\"24px\"viewBox=\"0 0 24 24\"\n",
              "       width=\"24px\">\n",
              "    <path d=\"M0 0h24v24H0V0z\" fill=\"none\"/>\n",
              "    <path d=\"M18.56 5.44l.94 2.06.94-2.06 2.06-.94-2.06-.94-.94-2.06-.94 2.06-2.06.94zm-11 1L8.5 8.5l.94-2.06 2.06-.94-2.06-.94L8.5 2.5l-.94 2.06-2.06.94zm10 10l.94 2.06.94-2.06 2.06-.94-2.06-.94-.94-2.06-.94 2.06-2.06.94z\"/><path d=\"M17.41 7.96l-1.37-1.37c-.4-.4-.92-.59-1.43-.59-.52 0-1.04.2-1.43.59L10.3 9.45l-7.72 7.72c-.78.78-.78 2.05 0 2.83L4 21.41c.39.39.9.59 1.41.59.51 0 1.02-.2 1.41-.59l7.78-7.78 2.81-2.81c.8-.78.8-2.07 0-2.86zM5.41 20L4 18.59l7.72-7.72 1.47 1.35L5.41 20z\"/>\n",
              "  </svg>\n",
              "      </button>\n",
              "      \n",
              "  <style>\n",
              "    .colab-df-container {\n",
              "      display:flex;\n",
              "      flex-wrap:wrap;\n",
              "      gap: 12px;\n",
              "    }\n",
              "\n",
              "    .colab-df-convert {\n",
              "      background-color: #E8F0FE;\n",
              "      border: none;\n",
              "      border-radius: 50%;\n",
              "      cursor: pointer;\n",
              "      display: none;\n",
              "      fill: #1967D2;\n",
              "      height: 32px;\n",
              "      padding: 0 0 0 0;\n",
              "      width: 32px;\n",
              "    }\n",
              "\n",
              "    .colab-df-convert:hover {\n",
              "      background-color: #E2EBFA;\n",
              "      box-shadow: 0px 1px 2px rgba(60, 64, 67, 0.3), 0px 1px 3px 1px rgba(60, 64, 67, 0.15);\n",
              "      fill: #174EA6;\n",
              "    }\n",
              "\n",
              "    [theme=dark] .colab-df-convert {\n",
              "      background-color: #3B4455;\n",
              "      fill: #D2E3FC;\n",
              "    }\n",
              "\n",
              "    [theme=dark] .colab-df-convert:hover {\n",
              "      background-color: #434B5C;\n",
              "      box-shadow: 0px 1px 3px 1px rgba(0, 0, 0, 0.15);\n",
              "      filter: drop-shadow(0px 1px 2px rgba(0, 0, 0, 0.3));\n",
              "      fill: #FFFFFF;\n",
              "    }\n",
              "  </style>\n",
              "\n",
              "      <script>\n",
              "        const buttonEl =\n",
              "          document.querySelector('#df-f31f559e-5410-4649-a5eb-36ce9c081fc9 button.colab-df-convert');\n",
              "        buttonEl.style.display =\n",
              "          google.colab.kernel.accessAllowed ? 'block' : 'none';\n",
              "\n",
              "        async function convertToInteractive(key) {\n",
              "          const element = document.querySelector('#df-f31f559e-5410-4649-a5eb-36ce9c081fc9');\n",
              "          const dataTable =\n",
              "            await google.colab.kernel.invokeFunction('convertToInteractive',\n",
              "                                                     [key], {});\n",
              "          if (!dataTable) return;\n",
              "\n",
              "          const docLinkHtml = 'Like what you see? Visit the ' +\n",
              "            '<a target=\"_blank\" href=https://colab.research.google.com/notebooks/data_table.ipynb>data table notebook</a>'\n",
              "            + ' to learn more about interactive tables.';\n",
              "          element.innerHTML = '';\n",
              "          dataTable['output_type'] = 'display_data';\n",
              "          await google.colab.output.renderOutput(dataTable, element);\n",
              "          const docLink = document.createElement('div');\n",
              "          docLink.innerHTML = docLinkHtml;\n",
              "          element.appendChild(docLink);\n",
              "        }\n",
              "      </script>\n",
              "    </div>\n",
              "  </div>\n",
              "  "
            ]
          },
          "metadata": {},
          "execution_count": 4
        }
      ]
    },
    {
      "cell_type": "code",
      "source": [
        "df.info()"
      ],
      "metadata": {
        "colab": {
          "base_uri": "https://localhost:8080/"
        },
        "id": "CfsC8mOJM-Fr",
        "outputId": "82ed2b86-d7f6-440f-9593-653565fe7a72"
      },
      "execution_count": null,
      "outputs": [
        {
          "output_type": "stream",
          "name": "stdout",
          "text": [
            "<class 'pandas.core.frame.DataFrame'>\n",
            "RangeIndex: 768 entries, 0 to 767\n",
            "Data columns (total 9 columns):\n",
            " #   Column                    Non-Null Count  Dtype  \n",
            "---  ------                    --------------  -----  \n",
            " 0   Pregnancies               768 non-null    int64  \n",
            " 1   Glucose                   768 non-null    int64  \n",
            " 2   BloodPressure             768 non-null    int64  \n",
            " 3   SkinThickness             768 non-null    int64  \n",
            " 4   Insulin                   768 non-null    int64  \n",
            " 5   BMI                       768 non-null    float64\n",
            " 6   DiabetesPedigreeFunction  768 non-null    float64\n",
            " 7   Age                       768 non-null    int64  \n",
            " 8   Outcome                   768 non-null    int64  \n",
            "dtypes: float64(2), int64(7)\n",
            "memory usage: 54.1 KB\n"
          ]
        }
      ]
    },
    {
      "cell_type": "code",
      "source": [
        "corr_matrix = df.corr().abs()\n",
        "corr_matrix.style.background_gradient(cmap=\"PuBu\")"
      ],
      "metadata": {
        "colab": {
          "base_uri": "https://localhost:8080/",
          "height": 332
        },
        "id": "4Wl1g2PLNHRX",
        "outputId": "b2dad88d-0372-4ee4-b461-a0129d119161"
      },
      "execution_count": null,
      "outputs": [
        {
          "output_type": "execute_result",
          "data": {
            "text/plain": [
              "<pandas.io.formats.style.Styler at 0x7f3ad452d050>"
            ],
            "text/html": [
              "<style type=\"text/css\">\n",
              "#T_8f501_row0_col0, #T_8f501_row1_col1, #T_8f501_row2_col2, #T_8f501_row3_col3, #T_8f501_row4_col4, #T_8f501_row5_col5, #T_8f501_row6_col6, #T_8f501_row7_col7, #T_8f501_row8_col8 {\n",
              "  background-color: #023858;\n",
              "  color: #f1f1f1;\n",
              "}\n",
              "#T_8f501_row0_col1 {\n",
              "  background-color: #f4edf6;\n",
              "  color: #000000;\n",
              "}\n",
              "#T_8f501_row0_col2, #T_8f501_row2_col1 {\n",
              "  background-color: #f0eaf4;\n",
              "  color: #000000;\n",
              "}\n",
              "#T_8f501_row0_col3, #T_8f501_row8_col2 {\n",
              "  background-color: #fbf4f9;\n",
              "  color: #000000;\n",
              "}\n",
              "#T_8f501_row0_col4 {\n",
              "  background-color: #faf3f9;\n",
              "  color: #000000;\n",
              "}\n",
              "#T_8f501_row0_col5, #T_8f501_row0_col6, #T_8f501_row1_col3, #T_8f501_row2_col8, #T_8f501_row3_col1, #T_8f501_row5_col0, #T_8f501_row5_col7, #T_8f501_row6_col2, #T_8f501_row6_col7, #T_8f501_row7_col4, #T_8f501_row7_col6 {\n",
              "  background-color: #fff7fb;\n",
              "  color: #000000;\n",
              "}\n",
              "#T_8f501_row0_col7 {\n",
              "  background-color: #65a3cb;\n",
              "  color: #f1f1f1;\n",
              "}\n",
              "#T_8f501_row0_col8 {\n",
              "  background-color: #e3e0ee;\n",
              "  color: #000000;\n",
              "}\n",
              "#T_8f501_row1_col0, #T_8f501_row1_col2, #T_8f501_row6_col8 {\n",
              "  background-color: #eee8f3;\n",
              "  color: #000000;\n",
              "}\n",
              "#T_8f501_row1_col4 {\n",
              "  background-color: #bfc9e1;\n",
              "  color: #000000;\n",
              "}\n",
              "#T_8f501_row1_col5, #T_8f501_row2_col7, #T_8f501_row8_col0, #T_8f501_row8_col7 {\n",
              "  background-color: #d9d8ea;\n",
              "  color: #000000;\n",
              "}\n",
              "#T_8f501_row1_col6 {\n",
              "  background-color: #efe9f3;\n",
              "  color: #000000;\n",
              "}\n",
              "#T_8f501_row1_col7 {\n",
              "  background-color: #d3d4e7;\n",
              "  color: #000000;\n",
              "}\n",
              "#T_8f501_row1_col8 {\n",
              "  background-color: #91b5d6;\n",
              "  color: #000000;\n",
              "}\n",
              "#T_8f501_row2_col0, #T_8f501_row6_col5 {\n",
              "  background-color: #ece7f2;\n",
              "  color: #000000;\n",
              "}\n",
              "#T_8f501_row2_col3, #T_8f501_row4_col6 {\n",
              "  background-color: #e5e1ef;\n",
              "  color: #000000;\n",
              "}\n",
              "#T_8f501_row2_col4, #T_8f501_row4_col2 {\n",
              "  background-color: #f8f1f8;\n",
              "  color: #000000;\n",
              "}\n",
              "#T_8f501_row2_col5 {\n",
              "  background-color: #cacee5;\n",
              "  color: #000000;\n",
              "}\n",
              "#T_8f501_row2_col6, #T_8f501_row3_col8, #T_8f501_row4_col7 {\n",
              "  background-color: #fef6fa;\n",
              "  color: #000000;\n",
              "}\n",
              "#T_8f501_row3_col0 {\n",
              "  background-color: #f5eff6;\n",
              "  color: #000000;\n",
              "}\n",
              "#T_8f501_row3_col2, #T_8f501_row5_col1 {\n",
              "  background-color: #e1dfed;\n",
              "  color: #000000;\n",
              "}\n",
              "#T_8f501_row3_col4 {\n",
              "  background-color: #97b7d7;\n",
              "  color: #000000;\n",
              "}\n",
              "#T_8f501_row3_col5 {\n",
              "  background-color: #a4bcda;\n",
              "  color: #000000;\n",
              "}\n",
              "#T_8f501_row3_col6 {\n",
              "  background-color: #e6e2ef;\n",
              "  color: #000000;\n",
              "}\n",
              "#T_8f501_row3_col7, #T_8f501_row6_col1 {\n",
              "  background-color: #f2ecf5;\n",
              "  color: #000000;\n",
              "}\n",
              "#T_8f501_row4_col0 {\n",
              "  background-color: #f7f0f7;\n",
              "  color: #000000;\n",
              "}\n",
              "#T_8f501_row4_col1 {\n",
              "  background-color: #c2cbe2;\n",
              "  color: #000000;\n",
              "}\n",
              "#T_8f501_row4_col3 {\n",
              "  background-color: #9ab8d8;\n",
              "  color: #000000;\n",
              "}\n",
              "#T_8f501_row4_col5 {\n",
              "  background-color: #e0dded;\n",
              "  color: #000000;\n",
              "}\n",
              "#T_8f501_row4_col8 {\n",
              "  background-color: #f5eef6;\n",
              "  color: #000000;\n",
              "}\n",
              "#T_8f501_row5_col2 {\n",
              "  background-color: #d0d1e6;\n",
              "  color: #000000;\n",
              "}\n",
              "#T_8f501_row5_col3 {\n",
              "  background-color: #acc0dd;\n",
              "  color: #000000;\n",
              "}\n",
              "#T_8f501_row5_col4 {\n",
              "  background-color: #e4e1ef;\n",
              "  color: #000000;\n",
              "}\n",
              "#T_8f501_row5_col6 {\n",
              "  background-color: #eee9f3;\n",
              "  color: #000000;\n",
              "}\n",
              "#T_8f501_row5_col8 {\n",
              "  background-color: #d2d2e7;\n",
              "  color: #000000;\n",
              "}\n",
              "#T_8f501_row6_col0, #T_8f501_row7_col5, #T_8f501_row8_col3 {\n",
              "  background-color: #fdf5fa;\n",
              "  color: #000000;\n",
              "}\n",
              "#T_8f501_row6_col3 {\n",
              "  background-color: #eae6f1;\n",
              "  color: #000000;\n",
              "}\n",
              "#T_8f501_row6_col4, #T_8f501_row8_col6 {\n",
              "  background-color: #e7e3f0;\n",
              "  color: #000000;\n",
              "}\n",
              "#T_8f501_row7_col0 {\n",
              "  background-color: #62a2cb;\n",
              "  color: #f1f1f1;\n",
              "}\n",
              "#T_8f501_row7_col1 {\n",
              "  background-color: #d8d7e9;\n",
              "  color: #000000;\n",
              "}\n",
              "#T_8f501_row7_col2 {\n",
              "  background-color: #dad9ea;\n",
              "  color: #000000;\n",
              "}\n",
              "#T_8f501_row7_col3 {\n",
              "  background-color: #f6eff7;\n",
              "  color: #000000;\n",
              "}\n",
              "#T_8f501_row7_col8 {\n",
              "  background-color: #dfddec;\n",
              "  color: #000000;\n",
              "}\n",
              "#T_8f501_row8_col1 {\n",
              "  background-color: #8eb3d5;\n",
              "  color: #000000;\n",
              "}\n",
              "#T_8f501_row8_col4 {\n",
              "  background-color: #f1ebf5;\n",
              "  color: #000000;\n",
              "}\n",
              "#T_8f501_row8_col5 {\n",
              "  background-color: #c6cce3;\n",
              "  color: #000000;\n",
              "}\n",
              "</style>\n",
              "<table id=\"T_8f501_\" class=\"dataframe\">\n",
              "  <thead>\n",
              "    <tr>\n",
              "      <th class=\"blank level0\" >&nbsp;</th>\n",
              "      <th class=\"col_heading level0 col0\" >Pregnancies</th>\n",
              "      <th class=\"col_heading level0 col1\" >Glucose</th>\n",
              "      <th class=\"col_heading level0 col2\" >BloodPressure</th>\n",
              "      <th class=\"col_heading level0 col3\" >SkinThickness</th>\n",
              "      <th class=\"col_heading level0 col4\" >Insulin</th>\n",
              "      <th class=\"col_heading level0 col5\" >BMI</th>\n",
              "      <th class=\"col_heading level0 col6\" >DiabetesPedigreeFunction</th>\n",
              "      <th class=\"col_heading level0 col7\" >Age</th>\n",
              "      <th class=\"col_heading level0 col8\" >Outcome</th>\n",
              "    </tr>\n",
              "  </thead>\n",
              "  <tbody>\n",
              "    <tr>\n",
              "      <th id=\"T_8f501_level0_row0\" class=\"row_heading level0 row0\" >Pregnancies</th>\n",
              "      <td id=\"T_8f501_row0_col0\" class=\"data row0 col0\" >1.000000</td>\n",
              "      <td id=\"T_8f501_row0_col1\" class=\"data row0 col1\" >0.129459</td>\n",
              "      <td id=\"T_8f501_row0_col2\" class=\"data row0 col2\" >0.141282</td>\n",
              "      <td id=\"T_8f501_row0_col3\" class=\"data row0 col3\" >0.081672</td>\n",
              "      <td id=\"T_8f501_row0_col4\" class=\"data row0 col4\" >0.073535</td>\n",
              "      <td id=\"T_8f501_row0_col5\" class=\"data row0 col5\" >0.017683</td>\n",
              "      <td id=\"T_8f501_row0_col6\" class=\"data row0 col6\" >0.033523</td>\n",
              "      <td id=\"T_8f501_row0_col7\" class=\"data row0 col7\" >0.544341</td>\n",
              "      <td id=\"T_8f501_row0_col8\" class=\"data row0 col8\" >0.221898</td>\n",
              "    </tr>\n",
              "    <tr>\n",
              "      <th id=\"T_8f501_level0_row1\" class=\"row_heading level0 row1\" >Glucose</th>\n",
              "      <td id=\"T_8f501_row1_col0\" class=\"data row1 col0\" >0.129459</td>\n",
              "      <td id=\"T_8f501_row1_col1\" class=\"data row1 col1\" >1.000000</td>\n",
              "      <td id=\"T_8f501_row1_col2\" class=\"data row1 col2\" >0.152590</td>\n",
              "      <td id=\"T_8f501_row1_col3\" class=\"data row1 col3\" >0.057328</td>\n",
              "      <td id=\"T_8f501_row1_col4\" class=\"data row1 col4\" >0.331357</td>\n",
              "      <td id=\"T_8f501_row1_col5\" class=\"data row1 col5\" >0.221071</td>\n",
              "      <td id=\"T_8f501_row1_col6\" class=\"data row1 col6\" >0.137337</td>\n",
              "      <td id=\"T_8f501_row1_col7\" class=\"data row1 col7\" >0.263514</td>\n",
              "      <td id=\"T_8f501_row1_col8\" class=\"data row1 col8\" >0.466581</td>\n",
              "    </tr>\n",
              "    <tr>\n",
              "      <th id=\"T_8f501_level0_row2\" class=\"row_heading level0 row2\" >BloodPressure</th>\n",
              "      <td id=\"T_8f501_row2_col0\" class=\"data row2 col0\" >0.141282</td>\n",
              "      <td id=\"T_8f501_row2_col1\" class=\"data row2 col1\" >0.152590</td>\n",
              "      <td id=\"T_8f501_row2_col2\" class=\"data row2 col2\" >1.000000</td>\n",
              "      <td id=\"T_8f501_row2_col3\" class=\"data row2 col3\" >0.207371</td>\n",
              "      <td id=\"T_8f501_row2_col4\" class=\"data row2 col4\" >0.088933</td>\n",
              "      <td id=\"T_8f501_row2_col5\" class=\"data row2 col5\" >0.281805</td>\n",
              "      <td id=\"T_8f501_row2_col6\" class=\"data row2 col6\" >0.041265</td>\n",
              "      <td id=\"T_8f501_row2_col7\" class=\"data row2 col7\" >0.239528</td>\n",
              "      <td id=\"T_8f501_row2_col8\" class=\"data row2 col8\" >0.065068</td>\n",
              "    </tr>\n",
              "    <tr>\n",
              "      <th id=\"T_8f501_level0_row3\" class=\"row_heading level0 row3\" >SkinThickness</th>\n",
              "      <td id=\"T_8f501_row3_col0\" class=\"data row3 col0\" >0.081672</td>\n",
              "      <td id=\"T_8f501_row3_col1\" class=\"data row3 col1\" >0.057328</td>\n",
              "      <td id=\"T_8f501_row3_col2\" class=\"data row3 col2\" >0.207371</td>\n",
              "      <td id=\"T_8f501_row3_col3\" class=\"data row3 col3\" >1.000000</td>\n",
              "      <td id=\"T_8f501_row3_col4\" class=\"data row3 col4\" >0.436783</td>\n",
              "      <td id=\"T_8f501_row3_col5\" class=\"data row3 col5\" >0.392573</td>\n",
              "      <td id=\"T_8f501_row3_col6\" class=\"data row3 col6\" >0.183928</td>\n",
              "      <td id=\"T_8f501_row3_col7\" class=\"data row3 col7\" >0.113970</td>\n",
              "      <td id=\"T_8f501_row3_col8\" class=\"data row3 col8\" >0.074752</td>\n",
              "    </tr>\n",
              "    <tr>\n",
              "      <th id=\"T_8f501_level0_row4\" class=\"row_heading level0 row4\" >Insulin</th>\n",
              "      <td id=\"T_8f501_row4_col0\" class=\"data row4 col0\" >0.073535</td>\n",
              "      <td id=\"T_8f501_row4_col1\" class=\"data row4 col1\" >0.331357</td>\n",
              "      <td id=\"T_8f501_row4_col2\" class=\"data row4 col2\" >0.088933</td>\n",
              "      <td id=\"T_8f501_row4_col3\" class=\"data row4 col3\" >0.436783</td>\n",
              "      <td id=\"T_8f501_row4_col4\" class=\"data row4 col4\" >1.000000</td>\n",
              "      <td id=\"T_8f501_row4_col5\" class=\"data row4 col5\" >0.197859</td>\n",
              "      <td id=\"T_8f501_row4_col6\" class=\"data row4 col6\" >0.185071</td>\n",
              "      <td id=\"T_8f501_row4_col7\" class=\"data row4 col7\" >0.042163</td>\n",
              "      <td id=\"T_8f501_row4_col8\" class=\"data row4 col8\" >0.130548</td>\n",
              "    </tr>\n",
              "    <tr>\n",
              "      <th id=\"T_8f501_level0_row5\" class=\"row_heading level0 row5\" >BMI</th>\n",
              "      <td id=\"T_8f501_row5_col0\" class=\"data row5 col0\" >0.017683</td>\n",
              "      <td id=\"T_8f501_row5_col1\" class=\"data row5 col1\" >0.221071</td>\n",
              "      <td id=\"T_8f501_row5_col2\" class=\"data row5 col2\" >0.281805</td>\n",
              "      <td id=\"T_8f501_row5_col3\" class=\"data row5 col3\" >0.392573</td>\n",
              "      <td id=\"T_8f501_row5_col4\" class=\"data row5 col4\" >0.197859</td>\n",
              "      <td id=\"T_8f501_row5_col5\" class=\"data row5 col5\" >1.000000</td>\n",
              "      <td id=\"T_8f501_row5_col6\" class=\"data row5 col6\" >0.140647</td>\n",
              "      <td id=\"T_8f501_row5_col7\" class=\"data row5 col7\" >0.036242</td>\n",
              "      <td id=\"T_8f501_row5_col8\" class=\"data row5 col8\" >0.292695</td>\n",
              "    </tr>\n",
              "    <tr>\n",
              "      <th id=\"T_8f501_level0_row6\" class=\"row_heading level0 row6\" >DiabetesPedigreeFunction</th>\n",
              "      <td id=\"T_8f501_row6_col0\" class=\"data row6 col0\" >0.033523</td>\n",
              "      <td id=\"T_8f501_row6_col1\" class=\"data row6 col1\" >0.137337</td>\n",
              "      <td id=\"T_8f501_row6_col2\" class=\"data row6 col2\" >0.041265</td>\n",
              "      <td id=\"T_8f501_row6_col3\" class=\"data row6 col3\" >0.183928</td>\n",
              "      <td id=\"T_8f501_row6_col4\" class=\"data row6 col4\" >0.185071</td>\n",
              "      <td id=\"T_8f501_row6_col5\" class=\"data row6 col5\" >0.140647</td>\n",
              "      <td id=\"T_8f501_row6_col6\" class=\"data row6 col6\" >1.000000</td>\n",
              "      <td id=\"T_8f501_row6_col7\" class=\"data row6 col7\" >0.033561</td>\n",
              "      <td id=\"T_8f501_row6_col8\" class=\"data row6 col8\" >0.173844</td>\n",
              "    </tr>\n",
              "    <tr>\n",
              "      <th id=\"T_8f501_level0_row7\" class=\"row_heading level0 row7\" >Age</th>\n",
              "      <td id=\"T_8f501_row7_col0\" class=\"data row7 col0\" >0.544341</td>\n",
              "      <td id=\"T_8f501_row7_col1\" class=\"data row7 col1\" >0.263514</td>\n",
              "      <td id=\"T_8f501_row7_col2\" class=\"data row7 col2\" >0.239528</td>\n",
              "      <td id=\"T_8f501_row7_col3\" class=\"data row7 col3\" >0.113970</td>\n",
              "      <td id=\"T_8f501_row7_col4\" class=\"data row7 col4\" >0.042163</td>\n",
              "      <td id=\"T_8f501_row7_col5\" class=\"data row7 col5\" >0.036242</td>\n",
              "      <td id=\"T_8f501_row7_col6\" class=\"data row7 col6\" >0.033561</td>\n",
              "      <td id=\"T_8f501_row7_col7\" class=\"data row7 col7\" >1.000000</td>\n",
              "      <td id=\"T_8f501_row7_col8\" class=\"data row7 col8\" >0.238356</td>\n",
              "    </tr>\n",
              "    <tr>\n",
              "      <th id=\"T_8f501_level0_row8\" class=\"row_heading level0 row8\" >Outcome</th>\n",
              "      <td id=\"T_8f501_row8_col0\" class=\"data row8 col0\" >0.221898</td>\n",
              "      <td id=\"T_8f501_row8_col1\" class=\"data row8 col1\" >0.466581</td>\n",
              "      <td id=\"T_8f501_row8_col2\" class=\"data row8 col2\" >0.065068</td>\n",
              "      <td id=\"T_8f501_row8_col3\" class=\"data row8 col3\" >0.074752</td>\n",
              "      <td id=\"T_8f501_row8_col4\" class=\"data row8 col4\" >0.130548</td>\n",
              "      <td id=\"T_8f501_row8_col5\" class=\"data row8 col5\" >0.292695</td>\n",
              "      <td id=\"T_8f501_row8_col6\" class=\"data row8 col6\" >0.173844</td>\n",
              "      <td id=\"T_8f501_row8_col7\" class=\"data row8 col7\" >0.238356</td>\n",
              "      <td id=\"T_8f501_row8_col8\" class=\"data row8 col8\" >1.000000</td>\n",
              "    </tr>\n",
              "  </tbody>\n",
              "</table>\n"
            ]
          },
          "metadata": {},
          "execution_count": 6
        }
      ]
    },
    {
      "cell_type": "code",
      "source": [
        "df.corrwith(df['Outcome']).sort_values(ascending=False)"
      ],
      "metadata": {
        "colab": {
          "base_uri": "https://localhost:8080/"
        },
        "id": "o8EW0ZEwNf2-",
        "outputId": "f62bc459-444e-44ed-a53a-057c42d826cd"
      },
      "execution_count": null,
      "outputs": [
        {
          "output_type": "execute_result",
          "data": {
            "text/plain": [
              "Outcome                     1.000000\n",
              "Glucose                     0.466581\n",
              "BMI                         0.292695\n",
              "Age                         0.238356\n",
              "Pregnancies                 0.221898\n",
              "DiabetesPedigreeFunction    0.173844\n",
              "Insulin                     0.130548\n",
              "SkinThickness               0.074752\n",
              "BloodPressure               0.065068\n",
              "dtype: float64"
            ]
          },
          "metadata": {},
          "execution_count": 8
        }
      ]
    },
    {
      "cell_type": "code",
      "source": [
        "x = df.drop(\"Outcome\", axis=1)\n",
        "y = df['Outcome'].copy()"
      ],
      "metadata": {
        "id": "gyuigjztNr6u"
      },
      "execution_count": null,
      "outputs": []
    },
    {
      "cell_type": "code",
      "source": [
        "#from imblearn.over_sampling import RandomOverSampler\n",
        "#ros = RandomOverSampler(random_state=42)\n",
        "#x_ros, y_ros = ros.fit_resample(x, y) # fit predictor and target variable\n",
        "\n",
        "\n",
        "from imblearn.under_sampling import TomekLinks\n",
        "\n",
        "tl = RandomOverSampler(sampling_strategy='majority')\n",
        "\n",
        "# fit predictor and target variable\n",
        "x_tl, y_tl = ros.fit_resample(x, y)"
      ],
      "metadata": {
        "id": "kNTnmH-bT0XL"
      },
      "execution_count": null,
      "outputs": []
    },
    {
      "cell_type": "code",
      "source": [
        "#from sklearn.preprocessing import StandardScaler\n",
        "#scaler = StandardScaler()\n",
        "#x_ros = scaler.fit_transform(x_ros)\n",
        "\n",
        "from sklearn.preprocessing import StandardScaler\n",
        "scaler = StandardScaler()\n",
        "\n",
        "x_tl = scaler.fit_transform(x_tl)\n"
      ],
      "metadata": {
        "id": "2hpKkV0zOKI-"
      },
      "execution_count": null,
      "outputs": []
    },
    {
      "cell_type": "code",
      "source": [
        "#from sklearn.model_selection import train_test_split\n",
        "#x_train, x_test, y_train, y_test = train_test_split(x_ros,y_ros, test_size=0.20, random_state=12)\n",
        "#from xgboost import XGBClassifier\n",
        "#xgb_model = XGBClassifier()\n",
        "#xgb_model.fit(x_train, y_train)\n",
        "\n",
        "from sklearn.model_selection import train_test_split\n",
        "x_train, x_test, y_train, y_test = train_test_split(x_tl,y_tl, test_size=0.20, random_state=12)\n",
        "\n",
        "from xgboost import XGBClassifier\n",
        "xgb_model = XGBClassifier()\n",
        "\n",
        "xgb_model.fit(x_train, y_train)"
      ],
      "metadata": {
        "colab": {
          "base_uri": "https://localhost:8080/"
        },
        "id": "QJm7-W9oPIkq",
        "outputId": "00dfe1e8-d722-40d7-c6da-0794cb5cb25b"
      },
      "execution_count": null,
      "outputs": [
        {
          "output_type": "execute_result",
          "data": {
            "text/plain": [
              "XGBClassifier()"
            ]
          },
          "metadata": {},
          "execution_count": 69
        }
      ]
    },
    {
      "cell_type": "code",
      "source": [
        "y_predict = xgb_model.predict(x_test)"
      ],
      "metadata": {
        "id": "uCjlVgL8QOb5"
      },
      "execution_count": null,
      "outputs": []
    },
    {
      "cell_type": "code",
      "source": [
        "from sklearn.metrics import classification_report\n",
        "print('Classification Report: \\n', classification_report(y_test,y_predict))"
      ],
      "metadata": {
        "colab": {
          "base_uri": "https://localhost:8080/"
        },
        "id": "qLWkbXhYR69I",
        "outputId": "81f9ea1b-30f6-427c-bae2-1a56927ca0f2"
      },
      "execution_count": null,
      "outputs": [
        {
          "output_type": "stream",
          "name": "stdout",
          "text": [
            "Classification Report: \n",
            "               precision    recall  f1-score   support\n",
            "\n",
            "           0       0.80      0.80      0.80        92\n",
            "           1       0.83      0.82      0.83       108\n",
            "\n",
            "    accuracy                           0.81       200\n",
            "   macro avg       0.81      0.81      0.81       200\n",
            "weighted avg       0.82      0.81      0.82       200\n",
            "\n"
          ]
        }
      ]
    },
    {
      "cell_type": "code",
      "source": [
        "from sklearn.metrics import jaccard_score\n",
        "jaccard_score(y_test,y_predict)"
      ],
      "metadata": {
        "colab": {
          "base_uri": "https://localhost:8080/"
        },
        "id": "KEzr9iWCQiqy",
        "outputId": "e48f832b-8127-4945-de8c-30bbe14125a0"
      },
      "execution_count": null,
      "outputs": [
        {
          "output_type": "execute_result",
          "data": {
            "text/plain": [
              "0.7063492063492064"
            ]
          },
          "metadata": {},
          "execution_count": 72
        }
      ]
    },
    {
      "cell_type": "code",
      "source": [
        "from sklearn.metrics import confusion_matrix\n",
        "plt.figure(figsize=(9,6))\n",
        "sns.heatmap(confusion_matrix(y_test,y_predict), annot=True)\n",
        "plt.show()"
      ],
      "metadata": {
        "colab": {
          "base_uri": "https://localhost:8080/",
          "height": 374
        },
        "id": "s8fQH1u_Q3Hm",
        "outputId": "6bf494a0-4322-4027-97f0-ea746e31f341"
      },
      "execution_count": null,
      "outputs": [
        {
          "output_type": "display_data",
          "data": {
            "text/plain": [
              "<Figure size 648x432 with 2 Axes>"
            ],
            "image/png": "[encoded data removed]"
          },
          "metadata": {
            "needs_background": "light"
          }
        }
      ]
    },
    {
      "cell_type": "code",
      "source": [
        "from sklearn.model_selection import cross_val_predict\n",
        "predict = cross_val_predict(estimator=xgb_model, X=x_tl,y=y_tl, cv=5)\n",
        "\n",
        "from sklearn.metrics import classification_report\n",
        "print('Classification Report: \\n', classification_report(y_tl,predict))"
      ],
      "metadata": {
        "colab": {
          "base_uri": "https://localhost:8080/"
        },
        "id": "VLm_817sRHai",
        "outputId": "66c63fbb-da8e-4e3a-9309-0ab96fe81e2c"
      },
      "execution_count": null,
      "outputs": [
        {
          "output_type": "stream",
          "name": "stdout",
          "text": [
            "Classification Report: \n",
            "               precision    recall  f1-score   support\n",
            "\n",
            "           0       0.83      0.76      0.79       500\n",
            "           1       0.78      0.85      0.81       500\n",
            "\n",
            "    accuracy                           0.80      1000\n",
            "   macro avg       0.81      0.80      0.80      1000\n",
            "weighted avg       0.81      0.80      0.80      1000\n",
            "\n"
          ]
        }
      ]
    },
    {
      "cell_type": "code",
      "source": [
        ""
      ],
      "metadata": {
        "id": "j7eKCJCXRzDo"
      },
      "execution_count": null,
      "outputs": []
    }
  ]
}